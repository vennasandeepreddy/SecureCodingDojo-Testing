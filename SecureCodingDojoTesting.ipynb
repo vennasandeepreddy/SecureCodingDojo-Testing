{
 "cells": [
  {
   "cell_type": "code",
   "execution_count": 36,
   "metadata": {},
   "outputs": [
    {
     "name": "stdout",
     "output_type": "stream",
     "text": [
      "CWE 306 - Button is enabled\n",
      "CWE 807 - Button is enabled\n",
      "CWE 862 - Button is enabled\n"
     ]
    }
   ],
   "source": [
    "from selenium import webdriver\n",
    "from selenium.webdriver.support.ui import WebDriverWait\n",
    "import time\n",
    "\n",
    "def site_login():\n",
    "    #setting up web driver\n",
    "    driver = webdriver.Chrome(executable_path = 'C:\\\\Users\\\\Personal\\\\AppData\\\\Local\\\\Programs\\\\Python\\\\Python37-32\\\\Lib\\\\site-packages\\\\chromedriver_win32\\\\chromedriver.exe')\n",
    "    \n",
    "    #login to our portal\n",
    "    driver.get(\"https://securecodingdojo.xyz/public/locallogin.html\")\n",
    "    wait = WebDriverWait(driver, 10)\n",
    "    driver.find_element_by_id('username').send_keys('sandeep')\n",
    "    driver.find_element_by_id ('password').send_keys('sandeepreddyvenna')\n",
    "    vul = ['CWE 306', 'CWE 807', 'CWE 862']\n",
    "    time.sleep(30)\n",
    "    \n",
    "    \n",
    "    \n",
    "    #entering into blackbelt challenge page\n",
    "    driver.find_element_by_css_selector('div.row > div:nth-of-type(2) > div.card > div.card-footer > a.btn.btn-primary.float-right').click()\n",
    "    \n",
    "    #Checking the buttons enabled/ disabled status\n",
    "    cwe_list = ['blockquote > p > a', 'div.container-fluid > span:nth-of-type(1) > div:nth-of-type(2) > div:nth-of-type(2) > div.card > div.panel-collapse.collapse > div.card-body > div > blockquote > footer > a', 'div.container-fluid > span:nth-of-type(1) > div:nth-of-type(2) > div:nth-of-type(3) > div.card > div.panel-collapse.collapse > div.card-body > div > blockquote > footer > a']\n",
    "    butoon_selectors = ['div.container-fluid > span:nth-of-type(1) > div:nth-of-type(2) > div:nth-of-type(1) > div.card > div.panel-collapse.collapse > div.card-body > span:nth-of-type(3) > a.btn.btn-success.btn-sm', 'div.container-fluid > span:nth-of-type(1) > div:nth-of-type(2) > div:nth-of-type(2) > div.card > div.panel-collapse.collapse > div.card-body > span:nth-of-type(3) > a.btn.btn-success.btn-sm', 'div.container-fluid > span:nth-of-type(1) > div:nth-of-type(2) > div:nth-of-type(3) > div.card > div.panel-collapse.collapse > div.card-body > span:nth-of-type(3) > a.btn.btn-success.btn-sm']\n",
    "\n",
    "    time.sleep(15)\n",
    "    for index in range(len(cwe_list)):\n",
    "        try:\n",
    "            driver.find_element_by_css_selector(cwe_list[index])\n",
    "        except:\n",
    "            print(\"Element not found, investigate manually\")\n",
    "        else:\n",
    "            try:\n",
    "                driver.find_element_by_css_selector(butoon_selectors[index])\n",
    "            except:\n",
    "                print(\"{} - Button is disabled\".format(vul[index]))\n",
    "            else:\n",
    "                print(\"{} - Button is enabled\".format(vul[index]))\n",
    "                \n",
    "site_login()"
   ]
  }
 ],
 "metadata": {
  "kernelspec": {
   "display_name": "Python 3",
   "language": "python",
   "name": "python3"
  },
  "language_info": {
   "codemirror_mode": {
    "name": "ipython",
    "version": 3
   },
   "file_extension": ".py",
   "mimetype": "text/x-python",
   "name": "python",
   "nbconvert_exporter": "python",
   "pygments_lexer": "ipython3",
   "version": "3.7.0"
  }
 },
 "nbformat": 4,
 "nbformat_minor": 2
}
